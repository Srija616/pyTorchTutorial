{
  "nbformat": 4,
  "nbformat_minor": 0,
  "metadata": {
    "colab": {
      "provenance": [],
      "authorship_tag": "ABX9TyOObjO3/qfHuUInNycSlinF",
      "include_colab_link": true
    },
    "kernelspec": {
      "name": "python3",
      "display_name": "Python 3"
    },
    "language_info": {
      "name": "python"
    }
  },
  "cells": [
    {
      "cell_type": "markdown",
      "metadata": {
        "id": "view-in-github",
        "colab_type": "text"
      },
      "source": [
        "<a href=\"https://colab.research.google.com/github/Srija616/pyTorchTutorial/blob/main/00_Pytorch.ipynb\" target=\"_parent\"><img src=\"https://colab.research.google.com/assets/colab-badge.svg\" alt=\"Open In Colab\"/></a>"
      ]
    },
    {
      "cell_type": "markdown",
      "source": [
        "# Basics of PyTorch and Tensor\n",
        "\n",
        "This notebook covers basics of tensor - initialization and operations."
      ],
      "metadata": {
        "id": "XYK-G8uPWKKh"
      }
    },
    {
      "cell_type": "markdown",
      "source": [
        "# Imports"
      ],
      "metadata": {
        "id": "iD7uPK59gfk9"
      }
    },
    {
      "cell_type": "code",
      "execution_count": 1,
      "metadata": {
        "id": "euOpJgZJUX7b"
      },
      "outputs": [],
      "source": [
        "import torch\n",
        "import pandas as pd\n",
        "import numpy as np\n",
        "import matplotlib.pyplot as plt"
      ]
    },
    {
      "cell_type": "markdown",
      "source": [
        "# Intro to Tensors\n",
        "\n",
        "Tensors are a way to represent multi-dimensional numeric data. While they may look similar to numpy arrays, they have accelerator support (GPU and TPU)\n",
        "\n",
        "https://stats.stackexchange.com/questions/355533/tensorflow-why-do-we-need-tensors\n",
        "\n"
      ],
      "metadata": {
        "id": "rZk7fknXU0s5"
      }
    },
    {
      "cell_type": "code",
      "source": [
        "# Introduction to tensors - a way to represent multi-dimensional numeric data\n",
        "# scalar\n",
        "scalar = torch.tensor(7) # read about tensors\n",
        "int_num = scalar.item() # get tensor scalar back to Python int\n",
        "print (f'scalar.type: {scalar.dtype}')\n",
        "print (f'int_num.type: {type(int_num)}')\n",
        "\n",
        "vector = torch.tensor([7,7])\n",
        "vector.ndim  # dimension will be 1. For understanding, it is the number of axes along which we have data or number of pairs of closing brackets\n",
        "vector.shape # [1,2]\n",
        "print (f'vector dimensions: {vector.ndim}, vector shape: {vector.shape}')\n",
        "\n",
        "matrix = torch.tensor([[7,8,3], [9,10, 11]])\n",
        "matrix.ndim  # 2\n",
        "matrix.shape # [2,3]\n",
        "print (f'matrix dimensions: {matrix.ndim}, matrix shape: {matrix.shape}')\n",
        "tensor = torch.tensor([[[1,2,3], [2,5,6]]])\n",
        "tensor.ndim  # 3\n",
        "tensor.shape # [1,2,3]\n",
        "print (f'tensor dimensions: {tensor.ndim}, tensor shape: {tensor.shape}')"
      ],
      "metadata": {
        "colab": {
          "base_uri": "https://localhost:8080/"
        },
        "id": "3GJraK0DUphQ",
        "outputId": "2fa6abd6-a1ab-48fa-acc3-d703a8a2be13"
      },
      "execution_count": 5,
      "outputs": [
        {
          "output_type": "stream",
          "name": "stdout",
          "text": [
            "scalar.type: torch.int64\n",
            "int_num.type: <class 'int'>\n",
            "vector dimensions: 1, vector shape: torch.Size([2])\n",
            "matrix dimensions: 2, matrix shape: torch.Size([2, 3])\n",
            "tensor dimensions: 3, tensor shape: torch.Size([1, 2, 3])\n"
          ]
        }
      ]
    },
    {
      "cell_type": "markdown",
      "source": [
        "# Random, zero and ones tensor"
      ],
      "metadata": {
        "id": "Ij-J72cQf9oU"
      }
    },
    {
      "cell_type": "code",
      "source": [
        "# Zero and ones tensor\n",
        "random_tensor = torch.rand(3,4)\n",
        "zero_tensor = torch.zeros(size = (3,4)) # not necessary to write size, see ones example\n",
        "target = zero_tensor*random_tensor\n",
        "ones_tensor = torch.ones((2,3,5))\n",
        "\n",
        "print (f\"random_tensor: {random_tensor}\\n\")\n",
        "print (f\"zero_tensor: {zero_tensor}\\n\")\n",
        "print (f\"ones_tensor: {ones_tensor}\\n\")\n",
        "print (f\"random_tensor value dtype: {random_tensor.dtype}\")\n"
      ],
      "metadata": {
        "colab": {
          "base_uri": "https://localhost:8080/"
        },
        "id": "TZPG9CsdVL8F",
        "outputId": "387fa4d5-1c2c-407e-a2ff-d1f51f6bc4dc"
      },
      "execution_count": 10,
      "outputs": [
        {
          "output_type": "stream",
          "name": "stdout",
          "text": [
            "random_tensor: tensor([[0.3584, 0.8963, 0.7424, 0.6205],\n",
            "        [0.3287, 0.0703, 0.8781, 0.6204],\n",
            "        [0.1799, 0.4073, 0.1027, 0.8446]])\n",
            "\n",
            "zero_tensor: tensor([[0., 0., 0., 0.],\n",
            "        [0., 0., 0., 0.],\n",
            "        [0., 0., 0., 0.]])\n",
            "\n",
            "ones_tensor: tensor([[[1., 1., 1., 1., 1.],\n",
            "         [1., 1., 1., 1., 1.],\n",
            "         [1., 1., 1., 1., 1.]],\n",
            "\n",
            "        [[1., 1., 1., 1., 1.],\n",
            "         [1., 1., 1., 1., 1.],\n",
            "         [1., 1., 1., 1., 1.]]])\n",
            "\n",
            "random_tensor value dtype: torch.float32\n"
          ]
        }
      ]
    },
    {
      "cell_type": "markdown",
      "source": [
        "# Creating a range of tensors and tensor dtype"
      ],
      "metadata": {
        "id": "i2z-urborGYV"
      }
    },
    {
      "cell_type": "code",
      "source": [
        "# Creating a range of tensors and tensors-like\n",
        "# twenty = torch.arange(20,40, step =2)\n",
        "# ten_zeros = torch.zeros_like(input = twenty)\n",
        "\n",
        "random_val = torch.rand(3,4)\n",
        "new_tensor = torch.zeros_like(input = random_val)\n",
        "print (random_val)\n",
        "print (new_tensor)"
      ],
      "metadata": {
        "id": "1SsUM2vzqti-",
        "colab": {
          "base_uri": "https://localhost:8080/"
        },
        "outputId": "8d88dcbd-eb79-470d-db12-0ba79cbde6e6"
      },
      "execution_count": 13,
      "outputs": [
        {
          "output_type": "stream",
          "name": "stdout",
          "text": [
            "tensor([[0.3958, 0.9643, 0.9273, 0.2400],\n",
            "        [0.5047, 0.8577, 0.1558, 0.9433],\n",
            "        [0.8920, 0.0778, 0.7412, 0.0556]])\n",
            "tensor([[0., 0., 0., 0.],\n",
            "        [0., 0., 0., 0.],\n",
            "        [0., 0., 0., 0.]])\n"
          ]
        }
      ]
    },
    {
      "cell_type": "code",
      "source": [
        "# Tensor Datatypes\n",
        "float16_tensor = torch.tensor([3.9, 7.9, 7.9], \n",
        "                              dtype = torch.float16,\n",
        "                              device = None,\n",
        "                              requires_grad = False,\n",
        "                              )"
      ],
      "metadata": {
        "id": "ucb6-7XesC9Y"
      },
      "execution_count": null,
      "outputs": []
    },
    {
      "cell_type": "code",
      "source": [
        "float32_tensor = torch.tensor([3.9, 7.9, 7.9],\n",
        "                              device = None,\n",
        "                              requires_grad = False,\n",
        "                              )"
      ],
      "metadata": {
        "id": "xiCb2KAotLwK"
      },
      "execution_count": null,
      "outputs": []
    },
    {
      "cell_type": "code",
      "source": [
        "float16_tensor + float32_tensor"
      ],
      "metadata": {
        "colab": {
          "base_uri": "https://localhost:8080/"
        },
        "id": "z_iJo1jqtVHe",
        "outputId": "233f7b23-8e37-4481-b3d8-c4fe0cc7c1b7"
      },
      "execution_count": null,
      "outputs": [
        {
          "output_type": "execute_result",
          "data": {
            "text/plain": [
              "tensor([ 7.8004, 15.7984, 15.7984])"
            ]
          },
          "metadata": {},
          "execution_count": 33
        }
      ]
    },
    {
      "cell_type": "markdown",
      "source": [
        "To get the right datatype: tensor.dtype\n",
        "\n",
        "To get the right shape: tensor.shape (shape is an attribute so no ()) or tensor.size() //function or method\n",
        "\n",
        "To get the right device: tensor.device\n",
        "\n",
        "Matrix multiplication : torch.matmul(tensor1, tensor 2)\n",
        " Element-wise multiplication : tensor * tensor \n",
        "\n",
        " Can't do mean on long dtype (int64), use float32 or float16 or complex dtype "
      ],
      "metadata": {
        "id": "gSBa0CTevtgZ"
      }
    },
    {
      "cell_type": "code",
      "source": [
        "t = torch.tensor([6,8,9], dtype = torch.float32)\n",
        "print (t.mean())\n",
        "\n",
        "# Get the position of the min/max value in a tensor.\n",
        "print (f'position of max value: {t.argmax()}')\n",
        "print (f'position of min value: {t.argmin()}')"
      ],
      "metadata": {
        "colab": {
          "base_uri": "https://localhost:8080/"
        },
        "id": "e9earkMcwFV8",
        "outputId": "0a653582-5d1a-4de0-ed71-2a9a956d6d70"
      },
      "execution_count": 14,
      "outputs": [
        {
          "output_type": "stream",
          "name": "stdout",
          "text": [
            "tensor(7.6667)\n",
            "position of max value: 2\n",
            "position of min value: 0\n"
          ]
        }
      ]
    },
    {
      "cell_type": "markdown",
      "source": [
        "* Reshaping - reshape an input tensor to defined shape\n",
        "\n",
        "* View - Return view of an input of certain shape but keep the same memory as the original tensor\n",
        "\n",
        "* Stacking: Concatenates a sequence of tensors along a dimension\n",
        "\n",
        "* Squeeze - removes all '1' dimensions from a tensor.\n",
        "\n",
        "* Unsqueeze - Adds '1' dimension to target tensor\n",
        "\n",
        "* Permute: Return view of the input shape with dimensions permuted in a certain way."
      ],
      "metadata": {
        "id": "VxnPHLIL2ZFO"
      }
    },
    {
      "cell_type": "code",
      "source": [
        "x = torch.arange(1., 11.)\n",
        "print (x, x.shape)\n",
        "\n",
        "# Change the view:\n",
        "xw = x.reshape(10,1)\n",
        "print (\"xw\", xw)\n",
        "xw = xw.squeeze()\n",
        "print (\"xw squeezed: \", xw)"
      ],
      "metadata": {
        "id": "thuZMFgN1Y8D",
        "colab": {
          "base_uri": "https://localhost:8080/"
        },
        "outputId": "452900ca-ead9-4fda-ee4b-3b3161018dcd"
      },
      "execution_count": 17,
      "outputs": [
        {
          "output_type": "stream",
          "name": "stdout",
          "text": [
            "tensor([ 1.,  2.,  3.,  4.,  5.,  6.,  7.,  8.,  9., 10.]) torch.Size([10])\n",
            "xw tensor([[ 1.],\n",
            "        [ 2.],\n",
            "        [ 3.],\n",
            "        [ 4.],\n",
            "        [ 5.],\n",
            "        [ 6.],\n",
            "        [ 7.],\n",
            "        [ 8.],\n",
            "        [ 9.],\n",
            "        [10.]])\n",
            "xw squeezed:  tensor([ 1.,  2.,  3.,  4.,  5.,  6.,  7.,  8.,  9., 10.])\n"
          ]
        }
      ]
    },
    {
      "cell_type": "markdown",
      "source": [
        "Indexing in PyTorch is similar to indexing in NumPy"
      ],
      "metadata": {
        "id": "EdwYSMsXbXPm"
      }
    },
    {
      "cell_type": "code",
      "source": [
        "x = torch.arange(1,10).reshape(1,3,3)  # We will get 9 values \n",
        "print(x, x.shape)\n",
        "print (x[0][:][1]) # Unable to understand why this is happening"
      ],
      "metadata": {
        "colab": {
          "base_uri": "https://localhost:8080/"
        },
        "id": "_yMCcKgqSwk1",
        "outputId": "fb1cd51c-aa9e-49e9-8089-f3cbcf0df7c8"
      },
      "execution_count": 18,
      "outputs": [
        {
          "output_type": "stream",
          "name": "stdout",
          "text": [
            "tensor([[[1, 2, 3],\n",
            "         [4, 5, 6],\n",
            "         [7, 8, 9]]]) torch.Size([1, 3, 3])\n",
            "tensor([4, 5, 6])\n"
          ]
        }
      ]
    },
    {
      "cell_type": "markdown",
      "source": [
        "Numpy - scientific Python numerical computing library"
      ],
      "metadata": {
        "id": "apcml2iWhuSQ"
      }
    },
    {
      "cell_type": "code",
      "source": [
        " # numpy-> torch\n",
        "arr = np.arange(1,8)\n",
        "x = torch.arange(1,10).reshape(1,3,3)\n",
        "\n",
        "# Warning -> When converting from numpy to pytorch, pytorch reflects numpy's \n",
        "# default datatype i.e. float64. But pytorch default datatype is float32\n",
        "arr_tensor = torch.from_numpy(arr).type(torch.float32)\n",
        "print (arr_tensor.dtype, arr_tensor)\n",
        "\n",
        "# change the value of original array i.e. in Numpy\n",
        "# The new tensor is in new memory, changing numpy arr doesn't change the tensor\n",
        "arr = arr+1\n",
        "print (arr_tensor)\n",
        "\n",
        "numpy_tensor = arr_tensor.numpy()\n",
        "print (numpy_tensor, numpy_tensor.dtype) # maintains the dtype you assigned to the tensor"
      ],
      "metadata": {
        "colab": {
          "base_uri": "https://localhost:8080/"
        },
        "id": "0LUDV100bsXi",
        "outputId": "aa5ab967-2afe-4855-9cee-66397a16bcfd"
      },
      "execution_count": null,
      "outputs": [
        {
          "output_type": "stream",
          "name": "stdout",
          "text": [
            "torch.float32 tensor([1., 2., 3., 4., 5., 6., 7.])\n",
            "tensor([1., 2., 3., 4., 5., 6., 7.])\n",
            "[1. 2. 3. 4. 5. 6. 7.] float32\n"
          ]
        }
      ]
    },
    {
      "cell_type": "code",
      "source": [
        "torch.manual_seed(43)\n",
        "r_t_a = torch.rand(3,5)\n",
        "torch.manual_seed(43)\n",
        "r_t_b = torch.rand(3,5)\n",
        "print (r_t_a)\n",
        "print ( r_t_b)\n",
        "print ( r_t_b == r_t_a)"
      ],
      "metadata": {
        "colab": {
          "base_uri": "https://localhost:8080/"
        },
        "id": "7yzFcv5AiKYm",
        "outputId": "a5c190a9-9902-410e-b851-015533274089"
      },
      "execution_count": null,
      "outputs": [
        {
          "output_type": "stream",
          "name": "stdout",
          "text": [
            "tensor([[0.4540, 0.1965, 0.9210, 0.3462, 0.1481],\n",
            "        [0.0858, 0.5909, 0.0659, 0.7476, 0.6253],\n",
            "        [0.9392, 0.1338, 0.5191, 0.5335, 0.5375]])\n",
            "tensor([[0.4540, 0.1965, 0.9210, 0.3462, 0.1481],\n",
            "        [0.0858, 0.5909, 0.0659, 0.7476, 0.6253],\n",
            "        [0.9392, 0.1338, 0.5191, 0.5335, 0.5375]])\n",
            "tensor([[True, True, True, True, True],\n",
            "        [True, True, True, True, True],\n",
            "        [True, True, True, True, True]])\n"
          ]
        }
      ]
    },
    {
      "cell_type": "code",
      "source": [],
      "metadata": {
        "id": "HyOsGXZttxDX"
      },
      "execution_count": null,
      "outputs": []
    }
  ]
}