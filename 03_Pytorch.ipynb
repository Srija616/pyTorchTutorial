{
  "nbformat": 4,
  "nbformat_minor": 0,
  "metadata": {
    "colab": {
      "provenance": [],
      "authorship_tag": "ABX9TyPC1p5ajSEmxweWnquX09m+",
      "include_colab_link": true
    },
    "kernelspec": {
      "name": "python3",
      "display_name": "Python 3"
    },
    "language_info": {
      "name": "python"
    }
  },
  "cells": [
    {
      "cell_type": "markdown",
      "metadata": {
        "id": "view-in-github",
        "colab_type": "text"
      },
      "source": [
        "<a href=\"https://colab.research.google.com/github/Srija616/pyTorchTutorial/blob/main/03_Pytorch.ipynb\" target=\"_parent\"><img src=\"https://colab.research.google.com/assets/colab-badge.svg\" alt=\"Open In Colab\"/></a>"
      ]
    },
    {
      "cell_type": "markdown",
      "source": [],
      "metadata": {
        "id": "xKdh7mKLaaej"
      }
    },
    {
      "cell_type": "code",
      "execution_count": 1,
      "metadata": {
        "id": "B_HUhEp_Jdt1",
        "colab": {
          "base_uri": "https://localhost:8080/"
        },
        "outputId": "b2e1bbbb-044a-4ed2-9a8e-ca7f403de518"
      },
      "outputs": [
        {
          "output_type": "stream",
          "name": "stdout",
          "text": [
            "1.13.1+cu116\n"
          ]
        }
      ],
      "source": [
        "import torch\n",
        "import pandas as pd\n",
        "import numpy as np\n",
        "import matplotlib.pyplot as plt\n",
        "from torch import nn # nn contains the building blocks for neural networks\n",
        "\n",
        "print (torch.__version__)"
      ]
    },
    {
      "cell_type": "markdown",
      "source": [
        "Classification - Neural Network classification"
      ],
      "metadata": {
        "id": "VjSksk3ULl4M"
      }
    },
    {
      "cell_type": "code",
      "source": [
        "device = 'cuda' if torch.cuda.is_available() else 'cpu'"
      ],
      "metadata": {
        "id": "wOW9q-MkdSgc"
      },
      "execution_count": 2,
      "outputs": []
    },
    {
      "cell_type": "code",
      "source": [
        "# Make classification data\n",
        "import sklearn\n",
        "from sklearn.datasets import make_circles\n",
        "\n",
        "n_samples = 1000\n",
        "# Create circles\n",
        "X, y = make_circles(n_samples, noise = 0.03, random_state = 42)\n",
        "\n",
        "# Make DataFrame of circcle\n",
        "circles = pd.DataFrame({\"X1\": X[:, 0], \"X2\":X[:, 1], \"label\": y})"
      ],
      "metadata": {
        "id": "zOZHpfOyLklx"
      },
      "execution_count": 3,
      "outputs": []
    },
    {
      "cell_type": "code",
      "source": [
        "circles[:10]"
      ],
      "metadata": {
        "colab": {
          "base_uri": "https://localhost:8080/",
          "height": 363
        },
        "id": "v00U-I8_L3nx",
        "outputId": "197f6e95-3f2e-4a86-9ac4-108a6ad2b766"
      },
      "execution_count": 5,
      "outputs": [
        {
          "output_type": "execute_result",
          "data": {
            "text/plain": [
              "         X1        X2  label\n",
              "0  0.754246  0.231481      1\n",
              "1 -0.756159  0.153259      1\n",
              "2 -0.815392  0.173282      1\n",
              "3 -0.393731  0.692883      1\n",
              "4  0.442208 -0.896723      0\n",
              "5 -0.479646  0.676435      1\n",
              "6 -0.013648  0.803349      1\n",
              "7  0.771513  0.147760      1\n",
              "8 -0.169322 -0.793456      1\n",
              "9 -0.121486  1.021509      0"
            ],
            "text/html": [
              "\n",
              "  <div id=\"df-84cef74a-2f2f-4867-867c-afb783e16a4a\">\n",
              "    <div class=\"colab-df-container\">\n",
              "      <div>\n",
              "<style scoped>\n",
              "    .dataframe tbody tr th:only-of-type {\n",
              "        vertical-align: middle;\n",
              "    }\n",
              "\n",
              "    .dataframe tbody tr th {\n",
              "        vertical-align: top;\n",
              "    }\n",
              "\n",
              "    .dataframe thead th {\n",
              "        text-align: right;\n",
              "    }\n",
              "</style>\n",
              "<table border=\"1\" class=\"dataframe\">\n",
              "  <thead>\n",
              "    <tr style=\"text-align: right;\">\n",
              "      <th></th>\n",
              "      <th>X1</th>\n",
              "      <th>X2</th>\n",
              "      <th>label</th>\n",
              "    </tr>\n",
              "  </thead>\n",
              "  <tbody>\n",
              "    <tr>\n",
              "      <th>0</th>\n",
              "      <td>0.754246</td>\n",
              "      <td>0.231481</td>\n",
              "      <td>1</td>\n",
              "    </tr>\n",
              "    <tr>\n",
              "      <th>1</th>\n",
              "      <td>-0.756159</td>\n",
              "      <td>0.153259</td>\n",
              "      <td>1</td>\n",
              "    </tr>\n",
              "    <tr>\n",
              "      <th>2</th>\n",
              "      <td>-0.815392</td>\n",
              "      <td>0.173282</td>\n",
              "      <td>1</td>\n",
              "    </tr>\n",
              "    <tr>\n",
              "      <th>3</th>\n",
              "      <td>-0.393731</td>\n",
              "      <td>0.692883</td>\n",
              "      <td>1</td>\n",
              "    </tr>\n",
              "    <tr>\n",
              "      <th>4</th>\n",
              "      <td>0.442208</td>\n",
              "      <td>-0.896723</td>\n",
              "      <td>0</td>\n",
              "    </tr>\n",
              "    <tr>\n",
              "      <th>5</th>\n",
              "      <td>-0.479646</td>\n",
              "      <td>0.676435</td>\n",
              "      <td>1</td>\n",
              "    </tr>\n",
              "    <tr>\n",
              "      <th>6</th>\n",
              "      <td>-0.013648</td>\n",
              "      <td>0.803349</td>\n",
              "      <td>1</td>\n",
              "    </tr>\n",
              "    <tr>\n",
              "      <th>7</th>\n",
              "      <td>0.771513</td>\n",
              "      <td>0.147760</td>\n",
              "      <td>1</td>\n",
              "    </tr>\n",
              "    <tr>\n",
              "      <th>8</th>\n",
              "      <td>-0.169322</td>\n",
              "      <td>-0.793456</td>\n",
              "      <td>1</td>\n",
              "    </tr>\n",
              "    <tr>\n",
              "      <th>9</th>\n",
              "      <td>-0.121486</td>\n",
              "      <td>1.021509</td>\n",
              "      <td>0</td>\n",
              "    </tr>\n",
              "  </tbody>\n",
              "</table>\n",
              "</div>\n",
              "      <button class=\"colab-df-convert\" onclick=\"convertToInteractive('df-84cef74a-2f2f-4867-867c-afb783e16a4a')\"\n",
              "              title=\"Convert this dataframe to an interactive table.\"\n",
              "              style=\"display:none;\">\n",
              "        \n",
              "  <svg xmlns=\"http://www.w3.org/2000/svg\" height=\"24px\"viewBox=\"0 0 24 24\"\n",
              "       width=\"24px\">\n",
              "    <path d=\"M0 0h24v24H0V0z\" fill=\"none\"/>\n",
              "    <path d=\"M18.56 5.44l.94 2.06.94-2.06 2.06-.94-2.06-.94-.94-2.06-.94 2.06-2.06.94zm-11 1L8.5 8.5l.94-2.06 2.06-.94-2.06-.94L8.5 2.5l-.94 2.06-2.06.94zm10 10l.94 2.06.94-2.06 2.06-.94-2.06-.94-.94-2.06-.94 2.06-2.06.94z\"/><path d=\"M17.41 7.96l-1.37-1.37c-.4-.4-.92-.59-1.43-.59-.52 0-1.04.2-1.43.59L10.3 9.45l-7.72 7.72c-.78.78-.78 2.05 0 2.83L4 21.41c.39.39.9.59 1.41.59.51 0 1.02-.2 1.41-.59l7.78-7.78 2.81-2.81c.8-.78.8-2.07 0-2.86zM5.41 20L4 18.59l7.72-7.72 1.47 1.35L5.41 20z\"/>\n",
              "  </svg>\n",
              "      </button>\n",
              "      \n",
              "  <style>\n",
              "    .colab-df-container {\n",
              "      display:flex;\n",
              "      flex-wrap:wrap;\n",
              "      gap: 12px;\n",
              "    }\n",
              "\n",
              "    .colab-df-convert {\n",
              "      background-color: #E8F0FE;\n",
              "      border: none;\n",
              "      border-radius: 50%;\n",
              "      cursor: pointer;\n",
              "      display: none;\n",
              "      fill: #1967D2;\n",
              "      height: 32px;\n",
              "      padding: 0 0 0 0;\n",
              "      width: 32px;\n",
              "    }\n",
              "\n",
              "    .colab-df-convert:hover {\n",
              "      background-color: #E2EBFA;\n",
              "      box-shadow: 0px 1px 2px rgba(60, 64, 67, 0.3), 0px 1px 3px 1px rgba(60, 64, 67, 0.15);\n",
              "      fill: #174EA6;\n",
              "    }\n",
              "\n",
              "    [theme=dark] .colab-df-convert {\n",
              "      background-color: #3B4455;\n",
              "      fill: #D2E3FC;\n",
              "    }\n",
              "\n",
              "    [theme=dark] .colab-df-convert:hover {\n",
              "      background-color: #434B5C;\n",
              "      box-shadow: 0px 1px 3px 1px rgba(0, 0, 0, 0.15);\n",
              "      filter: drop-shadow(0px 1px 2px rgba(0, 0, 0, 0.3));\n",
              "      fill: #FFFFFF;\n",
              "    }\n",
              "  </style>\n",
              "\n",
              "      <script>\n",
              "        const buttonEl =\n",
              "          document.querySelector('#df-84cef74a-2f2f-4867-867c-afb783e16a4a button.colab-df-convert');\n",
              "        buttonEl.style.display =\n",
              "          google.colab.kernel.accessAllowed ? 'block' : 'none';\n",
              "\n",
              "        async function convertToInteractive(key) {\n",
              "          const element = document.querySelector('#df-84cef74a-2f2f-4867-867c-afb783e16a4a');\n",
              "          const dataTable =\n",
              "            await google.colab.kernel.invokeFunction('convertToInteractive',\n",
              "                                                     [key], {});\n",
              "          if (!dataTable) return;\n",
              "\n",
              "          const docLinkHtml = 'Like what you see? Visit the ' +\n",
              "            '<a target=\"_blank\" href=https://colab.research.google.com/notebooks/data_table.ipynb>data table notebook</a>'\n",
              "            + ' to learn more about interactive tables.';\n",
              "          element.innerHTML = '';\n",
              "          dataTable['output_type'] = 'display_data';\n",
              "          await google.colab.output.renderOutput(dataTable, element);\n",
              "          const docLink = document.createElement('div');\n",
              "          docLink.innerHTML = docLinkHtml;\n",
              "          element.appendChild(docLink);\n",
              "        }\n",
              "      </script>\n",
              "    </div>\n",
              "  </div>\n",
              "  "
            ]
          },
          "metadata": {},
          "execution_count": 5
        }
      ]
    },
    {
      "cell_type": "code",
      "source": [
        "# Visualize \n",
        "plt.scatter(x=X[:,0], y=X[:,1], c= y, cmap=plt.cm.RdYlBu);"
      ],
      "metadata": {
        "colab": {
          "base_uri": "https://localhost:8080/",
          "height": 265
        },
        "id": "ThTwxBwhMKm-",
        "outputId": "c23d29c2-de0e-4b0a-8668-d1e9b5fb7ff5"
      },
      "execution_count": 4,
      "outputs": [
        {
          "output_type": "display_data",
          "data": {
            "text/plain": [
              "<Figure size 432x288 with 1 Axes>"
            ],
            "image/png": "[encoded data removed]"
          },
          "metadata": {
            "needs_background": "light"
          }
        }
      ]
    },
    {
      "cell_type": "markdown",
      "source": [
        "Check input and output shapes, \n",
        "turn numpy data to tensors,\n",
        "Split data into train-test split\n"
      ],
      "metadata": {
        "id": "ATQn6d5lNj-J"
      }
    },
    {
      "cell_type": "code",
      "source": [
        "y = y.reshape((1000, 1))\n",
        "X = torch.from_numpy(X).type(torch.float)\n",
        "y = torch.from_numpy(y).type(torch.float)"
      ],
      "metadata": {
        "id": "wvclIZoBNqv2"
      },
      "execution_count": 6,
      "outputs": []
    },
    {
      "cell_type": "code",
      "source": [
        "# Train-test split\n",
        "split = int(0.8* len(X))\n",
        "X_train, X_test, y_train, y_test = X[:split], X[split:], y[:split], y[split:]"
      ],
      "metadata": {
        "id": "e1KQH8odNuWo"
      },
      "execution_count": 7,
      "outputs": []
    },
    {
      "cell_type": "markdown",
      "source": [
        "Build the model\n",
        "1. Setup device agnostic code\n",
        "2. construct a model - subclass nn.module\n",
        "3. Define a loss function and optimizer\n",
        "4. Create a training and test loop"
      ],
      "metadata": {
        "id": "sU06B_SYRlg8"
      }
    },
    {
      "cell_type": "code",
      "source": [
        "class NeuralClassificationModel(nn.Module): \n",
        "    '''\n",
        "    nn.Module has almost everything that PyTorch model needs - base class for all neural models. \n",
        "    '''\n",
        "    def __init__(self):\n",
        "        super().__init__()\n",
        "        self.layer_1 = nn.Linear(in_features=2, out_features = 5) #upscales to five features\n",
        "        self.layer_2 = nn.Linear(in_features=5, out_features = 1) #output layers\n",
        "    \n",
        "    def forward(self, x) -> torch.Tensor: # x is input\n",
        "        return self.layer_2(self.layer_1(x))\n",
        "\n",
        "model_0 = NeuralClassificationModel().to(device)\n",
        "# or\n",
        "# model_0 = nn.Sequential(\n",
        "#     nn.Linear(in_features=2, out_features = 5),\n",
        "#     nn.Linear(in_features=5, out_features = 1)\n",
        "# )\n",
        "loss_func = nn.BCEWithLogitsLoss() # sigmoid activation function built in. i.e. I need to pass the output probabilities\n",
        "optimizer = torch.optim.SGD(model_0.parameters(), lr=0.01, momentum=0.9)\n"
      ],
      "metadata": {
        "id": "MVkEZiB5SB0-"
      },
      "execution_count": 9,
      "outputs": []
    },
    {
      "cell_type": "code",
      "source": [
        "model_0.state_dict()"
      ],
      "metadata": {
        "colab": {
          "base_uri": "https://localhost:8080/"
        },
        "id": "j1f8FDU1_7Rg",
        "outputId": "fcbffdc8-3c08-484c-bbe1-2a07fde382c0"
      },
      "execution_count": 10,
      "outputs": [
        {
          "output_type": "execute_result",
          "data": {
            "text/plain": [
              "OrderedDict([('layer_1.weight', tensor([[ 0.5438, -0.2989],\n",
              "                      [-0.3509,  0.4658],\n",
              "                      [ 0.3451,  0.2321],\n",
              "                      [ 0.0210, -0.5992],\n",
              "                      [-0.0761,  0.0328]])),\n",
              "             ('layer_1.bias',\n",
              "              tensor([-0.4365,  0.0474,  0.1389,  0.1413,  0.6207])),\n",
              "             ('layer_2.weight',\n",
              "              tensor([[ 0.4053, -0.3320,  0.3556,  0.3968,  0.2782]])),\n",
              "             ('layer_2.bias', tensor([0.0262]))])"
            ]
          },
          "metadata": {},
          "execution_count": 10
        }
      ]
    },
    {
      "cell_type": "code",
      "source": [
        "with torch.inference_mode():\n",
        "    untrained_preds = model_0(X_test.to(device))\n",
        "print (f\"Length of preds: {len(untrained_preds)}, Shape = {untrained_preds.shape}\")\n"
      ],
      "metadata": {
        "colab": {
          "base_uri": "https://localhost:8080/"
        },
        "id": "qiF9tIUyTd3i",
        "outputId": "821d50e5-c805-4fad-af2e-f71aeef214bf"
      },
      "execution_count": 11,
      "outputs": [
        {
          "output_type": "stream",
          "name": "stdout",
          "text": [
            "Length of preds: 200, Shape = torch.Size([200, 1])\n"
          ]
        }
      ]
    },
    {
      "cell_type": "markdown",
      "source": [
        "# Calculate accuracy\n",
        "Accuracy = TP/TP+TN  - the number of actual positives in the total samples which model says as positive"
      ],
      "metadata": {
        "id": "UxcQQ--YdtgX"
      }
    },
    {
      "cell_type": "code",
      "source": [
        "# def accuracy_func(predictions, y_train):\n",
        "#     correct = torch.eq(predictions, y_train)\n",
        "#     acc = correct/len(predictions)\n",
        "#     return acc\n",
        "\n",
        "def accuracy_func(y_pred, y_true):\n",
        "    correct = torch.eq(y_true, y_pred).sum().item() # torch.eq() calculates where two tensors are equal\n",
        "    acc = (correct / len(y_pred)) * 100 \n",
        "    return acc"
      ],
      "metadata": {
        "id": "5OTiQpTUTfWm"
      },
      "execution_count": 19,
      "outputs": []
    },
    {
      "cell_type": "code",
      "source": [
        "# move variables to the device in use (cuda/cpu)\n",
        "X_train, y_train = X_train.to(device), y_train.to(device)\n",
        "X_test, y_test = X_test.to(device), y_test.to(device)"
      ],
      "metadata": {
        "id": "BOeLx1sBEaWh"
      },
      "execution_count": 12,
      "outputs": []
    },
    {
      "cell_type": "code",
      "source": [
        "epochs = 100\n",
        "for epoch in range(epochs):\n",
        "    model_0.train()\n",
        "    y_preds = model_0(X_train)\n",
        "    y_preds = torch.round(torch.sigmoid(y_preds))\n",
        "    loss = loss_func(y_train, y_preds)\n",
        "    accuracy__ = accuracy_func(y_preds, y_train)\n",
        "    optimizer.zero_grad()\n",
        "    # Perform backprop on the loss wrt the params of the model\n",
        "    loss.backward()\n",
        "\n",
        "    # Perform gradient descent\n",
        "    optimizer.step()\n",
        "    model_0.eval()\n",
        "    with torch.inference_mode(): # faster than no_grad - old pytorch code\n",
        "        test_logits = model_0.forward(X_test)\n",
        "        loss_test = loss_func(test_logits, y_test)\n",
        "        if (epoch%10 == 0):\n",
        "            print (f\"Epoch:{epoch} | Accuracy: {accuracy__}\")\n",
        "        \n"
      ],
      "metadata": {
        "id": "jNCLi9MCAAFk",
        "colab": {
          "base_uri": "https://localhost:8080/"
        },
        "outputId": "2c763517-c48d-4e26-9adc-5596588797bb"
      },
      "execution_count": 23,
      "outputs": [
        {
          "output_type": "stream",
          "name": "stdout",
          "text": [
            "Epoch:0 | Accuracy: 50.74999999999999\n",
            "Epoch:10 | Accuracy: 50.74999999999999\n",
            "Epoch:20 | Accuracy: 50.74999999999999\n",
            "Epoch:30 | Accuracy: 50.74999999999999\n",
            "Epoch:40 | Accuracy: 50.74999999999999\n",
            "Epoch:50 | Accuracy: 50.74999999999999\n",
            "Epoch:60 | Accuracy: 50.74999999999999\n",
            "Epoch:70 | Accuracy: 50.74999999999999\n",
            "Epoch:80 | Accuracy: 50.74999999999999\n",
            "Epoch:90 | Accuracy: 50.74999999999999\n"
          ]
        }
      ]
    },
    {
      "cell_type": "code",
      "source": [
        "class CircleModel(nn.Module): \n",
        "    '''\n",
        "    nn.Module has almost everything that PyTorch model needs - base class for all neural models. \n",
        "    '''\n",
        "    def __init__(self):\n",
        "        super().__init__()\n",
        "        self.layer_1 = nn.Linear(in_features=2, out_features = 10) #upscales to five features\n",
        "        self.layer_2 = nn.Linear(in_features=10, out_features = 10) #output layers\n",
        "        self.layer_3 = nn.Linear(in_features = 10, out_features = 1)\n",
        "        \n",
        "    def forward(self, x) -> torch.Tensor: # x is input\n",
        "        return self.layer_3(self.layer_2(self.layer_1(x)))\n"
      ],
      "metadata": {
        "id": "ETt_BOxKD1yY"
      },
      "execution_count": 21,
      "outputs": []
    },
    {
      "cell_type": "code",
      "source": [
        "circle_model = CircleModel()"
      ],
      "metadata": {
        "id": "K1JrNeNjbX_s"
      },
      "execution_count": 24,
      "outputs": []
    },
    {
      "cell_type": "code",
      "source": [
        "for epoch in range(1000):\n",
        "    circle_model.train()\n",
        "    y_pred = circle_model.forward(X_train)\n",
        "    loss = loss_func(y_pred, y_train)\n",
        "    if (epoch%100 == 0):\n",
        "        print (f\"Epoch:{epoch} | Test: {loss}\")\n",
        "    optimizer.zero_grad() # restarts loop, no residual gradients from previous loop\n",
        "    loss.backward()\n",
        "\n",
        "    optimizer.step()\n",
        "    circle_model.eval()\n",
        "    with torch.inference_mode(): # faster than no_grad - old pytorch code\n",
        "        test_logits = circle_model.forward(X_test)\n",
        "        loss = loss_func(test_logits, y_test)\n",
        "        if (epoch%10 == 0):\n",
        "            print (f\"Epoch:{epoch} | Test: {loss}\")\n",
        "        \n",
        "    "
      ],
      "metadata": {
        "id": "qYsppqK6beKW"
      },
      "execution_count": null,
      "outputs": []
    },
    {
      "cell_type": "markdown",
      "source": [
        "Introducing Non-Linearity"
      ],
      "metadata": {
        "id": "roDHaY3Qe_fz"
      }
    },
    {
      "cell_type": "code",
      "source": [
        "class CircleModel_v2(nn.Module): \n",
        "    '''\n",
        "    nn.Module has almost everything that PyTorch model needs - base class for all neural models. \n",
        "    '''\n",
        "    def __init__(self):\n",
        "        super().__init__()\n",
        "        self.layer_1 = nn.Linear(in_features=2, out_features = 10) #upscales to five features\n",
        "        self.layer_2 = nn.Linear(in_features=10, out_features = 10) #output layers\n",
        "        self.layer_3 = nn.Linear(in_features = 10, out_features = 1)\n",
        "        self.relu = nn.ReLU() #ReLU is a non-linear activation function\n",
        "\n",
        "        \n",
        "    def forward(self, x) -> torch.Tensor: # x is input\n",
        "        return self.layer_3(self.relu(self.layer_2(self.relu(self.layer_1(x)))))\n"
      ],
      "metadata": {
        "id": "JZpoa_wicXBG"
      },
      "execution_count": 26,
      "outputs": []
    },
    {
      "cell_type": "code",
      "source": [
        "circle_model_2 = CircleModel_v2()\n",
        "loss_func = nn.BCEWithLogitsLoss() # sigmoid activation function built in. i.e. I need to pass the output probabilities\n",
        "optimizer = torch.optim.SGD(circle_model_2.parameters(), lr=0.01, momentum=0.9)\n"
      ],
      "metadata": {
        "id": "NtEEK-_egYXN"
      },
      "execution_count": 27,
      "outputs": []
    },
    {
      "cell_type": "code",
      "source": [
        "for epoch in range(100):\n",
        "    circle_model_2.train()\n",
        "    y_pred = circle_model_2.forward(X_train)\n",
        "    loss = loss_func(y_pred, y_train)\n",
        "    if (epoch%10 == 0):\n",
        "        print (f\"Epoch:{epoch} | Test: {loss}\")\n",
        "    optimizer.zero_grad()\n",
        "    loss.backward()\n",
        "\n",
        "    optimizer.step()\n",
        "    circle_model_2.eval()\n",
        "    with torch.inference_mode(): # faster than no_grad - old pytorch code\n",
        "        test_logits = circle_model_2.forward(X_test)\n",
        "        loss = loss_func(test_logits, y_test)\n",
        "        if (epoch%10 == 0):\n",
        "            print (f\"Epoch:{epoch} | Test: {loss}\")\n",
        "        \n",
        "    "
      ],
      "metadata": {
        "id": "V_BRsfWBgUD3"
      },
      "execution_count": null,
      "outputs": []
    },
    {
      "cell_type": "markdown",
      "source": [
        "Mult-class classificcation problem"
      ],
      "metadata": {
        "id": "dZzAVLnEjKjj"
      }
    },
    {
      "cell_type": "code",
      "source": [
        "import torch\n",
        "import matplotlib.pyplot as plt\n",
        "from sklearn.datasets import make_blobs\n",
        "from sklearn.model_selection import train_test_split\n",
        "NUM_CLASSES = 4\n",
        "NUM_FEATURES = 2\n",
        "RANDOM_SEED = 42    \n",
        "\n",
        "# Create multi-class data\n",
        "\n",
        "X_blob, y_blob = make_blobs(n_samples = 1000, n_features = NUM_FEATURES, centers = NUM_CLASSES, cluster_std = 2, random_state = RANDOM_SEED)\n",
        "\n",
        "X_blob = torch.from_numpy(X_blob).type(torch.float)\n",
        "y_blob = torch.from_numpy(y_blob).type(torch.LongTensor)\n",
        "\n",
        "X_blob_train, X_blob_test, y_blob_train, y_blob_test = train_test_split(X_blob, \n",
        "                                                                        y_blob,\n",
        "                                                                        test_size = 0.2,\n",
        "                                                                        random_state = RANDOM_SEED)"
      ],
      "metadata": {
        "id": "FhPrgVyYgfAa"
      },
      "execution_count": 29,
      "outputs": []
    },
    {
      "cell_type": "code",
      "source": [
        "X_blob_test.shape"
      ],
      "metadata": {
        "colab": {
          "base_uri": "https://localhost:8080/"
        },
        "id": "dKZVdSeIFxFp",
        "outputId": "0f3c5d29-ba7e-4fd1-814b-e235104cc065"
      },
      "execution_count": 30,
      "outputs": [
        {
          "output_type": "execute_result",
          "data": {
            "text/plain": [
              "torch.Size([200, 2])"
            ]
          },
          "metadata": {},
          "execution_count": 30
        }
      ]
    },
    {
      "cell_type": "code",
      "source": [
        "X_blob_train.shape, y_blob_train.shape"
      ],
      "metadata": {
        "colab": {
          "base_uri": "https://localhost:8080/"
        },
        "id": "vYzQ99mRxtNj",
        "outputId": "e5ca79c5-f144-4f01-b769-949346054a44"
      },
      "execution_count": 31,
      "outputs": [
        {
          "output_type": "execute_result",
          "data": {
            "text/plain": [
              "(torch.Size([800, 2]), torch.Size([800]))"
            ]
          },
          "metadata": {},
          "execution_count": 31
        }
      ]
    },
    {
      "cell_type": "code",
      "source": [
        "plt.figure(figsize =(10,7))\n",
        "plt.scatter (X_blob[:, 0], X_blob[:, 1], c = y_blob, cmap = plt.cm.RdYlBu)"
      ],
      "metadata": {
        "colab": {
          "base_uri": "https://localhost:8080/",
          "height": 445
        },
        "id": "86uq8WF_kqel",
        "outputId": "d485e96e-ddd4-4017-f6c2-36445a504061"
      },
      "execution_count": 32,
      "outputs": [
        {
          "output_type": "execute_result",
          "data": {
            "text/plain": [
              "<matplotlib.collections.PathCollection at 0x7f20ce7c7fd0>"
            ]
          },
          "metadata": {},
          "execution_count": 32
        },
        {
          "output_type": "display_data",
          "data": {
            "text/plain": [
              "<Figure size 720x504 with 1 Axes>"
            ],
            "image/png": "[encoded data removed]"
          },
          "metadata": {
            "needs_background": "light"
          }
        }
      ]
    },
    {
      "cell_type": "code",
      "source": [
        "# Multi-class classification model\n",
        "from torch import nn\n",
        "\n",
        "class BlobModel(nn.Module):\n",
        "    def __init__(self, input_features, output_features, hidden_units = 8):\n",
        "        super().__init__() # this is for inheritance \n",
        "        '''\n",
        "        Args: \n",
        "            input_features(int): Number of input features to the model\n",
        "            output_features(int): Number of output features (number of output classes)\n",
        "            hidden_units(int): Number of hidden units between layers, default 8\n",
        "\n",
        "        Returns:\n",
        "\n",
        "        Examples:\n",
        "        '''\n",
        "        self.linear_stack = nn.Sequential(\n",
        "            nn.Linear(in_features = input_features, out_features = hidden_units),\n",
        "            nn.ReLU(),\n",
        "            nn.Linear(in_features = hidden_units, out_features = hidden_units),\n",
        "            nn.ReLU(),\n",
        "            nn.Linear(in_features = hidden_units , out_features = output_features)\n",
        "        )\n",
        "    def forward(self,x):\n",
        "        return self.linear_stack(x)\n",
        "    \n",
        "\n",
        "model_multiclass = BlobModel(input_features = 2, output_features = 4, hidden_units = 8)\n",
        "\n"
      ],
      "metadata": {
        "id": "gYB5ohlPlUIX"
      },
      "execution_count": 33,
      "outputs": []
    },
    {
      "cell_type": "code",
      "source": [
        "loss_func = nn.CrossEntropyLoss() # sigmoid activation function built in. i.e. I need to pass the output probabilities\n",
        "optimizer = torch.optim.SGD(model_multiclass.parameters(), lr=0.01, momentum=0.9)\n"
      ],
      "metadata": {
        "id": "nntgPZaambsK"
      },
      "execution_count": 34,
      "outputs": []
    },
    {
      "cell_type": "code",
      "source": [
        "next(model_multiclass.parameters()).device"
      ],
      "metadata": {
        "colab": {
          "base_uri": "https://localhost:8080/"
        },
        "id": "oK5bkG0x0PzZ",
        "outputId": "54eb9b89-d879-49b3-a1a5-858606f1ded9"
      },
      "execution_count": 35,
      "outputs": [
        {
          "output_type": "execute_result",
          "data": {
            "text/plain": [
              "device(type='cpu')"
            ]
          },
          "metadata": {},
          "execution_count": 35
        }
      ]
    },
    {
      "cell_type": "code",
      "source": [
        "y_pred = model_multiclass.forward(X_blob_train)\n",
        "prediction_probabilities = torch.softmax(y_pred, dim =1)\n",
        "predicted_label = torch.argmax(prediction_probabilities)\n"
      ],
      "metadata": {
        "id": "C0kN5kod30SY"
      },
      "execution_count": 36,
      "outputs": []
    },
    {
      "cell_type": "code",
      "source": [
        "y_blob_train.dtype"
      ],
      "metadata": {
        "colab": {
          "base_uri": "https://localhost:8080/"
        },
        "id": "BInjrqswFXN2",
        "outputId": "842bf664-695b-413c-cc92-c6833ac54adf"
      },
      "execution_count": 37,
      "outputs": [
        {
          "output_type": "execute_result",
          "data": {
            "text/plain": [
              "torch.int64"
            ]
          },
          "metadata": {},
          "execution_count": 37
        }
      ]
    },
    {
      "cell_type": "code",
      "source": [
        "print (torch.sum(prediction_probabilities[0]))\n",
        "print (torch.max(prediction_probabilities[0]))\n",
        "print (torch.argmax(prediction_probabilities[0]))"
      ],
      "metadata": {
        "colab": {
          "base_uri": "https://localhost:8080/"
        },
        "id": "K_7elWxHEIpe",
        "outputId": "31f8d9dc-458d-400d-8a87-0c7f37014be1"
      },
      "execution_count": 38,
      "outputs": [
        {
          "output_type": "stream",
          "name": "stdout",
          "text": [
            "tensor(1., grad_fn=<SumBackward0>)\n",
            "tensor(0.3218, grad_fn=<MaxBackward1>)\n",
            "tensor(3)\n"
          ]
        }
      ]
    },
    {
      "cell_type": "code",
      "source": [
        " # convert model's output which are logits to prediction probabilities to prediction labels\n",
        "for epoch in range(100):\n",
        "    model_multiclass.train()\n",
        "    y_pred = model_multiclass.forward(X_blob_train)\n",
        "    prediction_probabilities = torch.softmax(y_pred, dim = 1)\n",
        "    predicted_label = torch.argmax(prediction_probabilities, dim = 1)\n",
        "    loss = loss_func(y_pred, y_blob_train)\n",
        "    optimizer.zero_grad()\n",
        "    loss.backward()\n",
        "\n",
        "    optimizer.step()\n",
        "    model_multiclass.eval()\n",
        "    with torch.inference_mode(): # faster than no_grad - old pytorch code\n",
        "        test_logits = model_multiclass.forward(X_blob_test)\n",
        "        probs = torch.softmax(test_logits, dim =1).argmax(dim=1)\n",
        "        loss = loss_func(test_logits, y_blob_test)\n",
        "        if (epoch%10 == 0):\n",
        "            print (f\"Epoch:{epoch} | Test: {loss}\")\n",
        "        "
      ],
      "metadata": {
        "id": "ZAkNxgqnzRrt",
        "colab": {
          "base_uri": "https://localhost:8080/"
        },
        "outputId": "829f316d-79f7-47ad-8fe9-94033c32e05e"
      },
      "execution_count": 42,
      "outputs": [
        {
          "output_type": "stream",
          "name": "stdout",
          "text": [
            "Epoch:0 | Test: 0.07993889600038528\n",
            "Epoch:10 | Test: 0.0797443762421608\n",
            "Epoch:20 | Test: 0.07956082373857498\n",
            "Epoch:30 | Test: 0.07939794659614563\n",
            "Epoch:40 | Test: 0.07923108339309692\n",
            "Epoch:50 | Test: 0.07905872911214828\n",
            "Epoch:60 | Test: 0.0788993239402771\n",
            "Epoch:70 | Test: 0.07874415069818497\n",
            "Epoch:80 | Test: 0.07860597968101501\n",
            "Epoch:90 | Test: 0.07846350967884064\n"
          ]
        }
      ]
    },
    {
      "cell_type": "code",
      "source": [
        "import numpy as np\n",
        "def plot_decision_boundary(model: torch.nn.Module, X: torch.Tensor, y: torch.Tensor):\n",
        "    \"\"\"Plots decision boundaries of model predicting on X in comparison to y.\n",
        "    Source - https://madewithml.com/courses/foundations/neural-networks/ (with modifications)\n",
        "    \"\"\"\n",
        "    # Put everything to CPU (works better with NumPy + Matplotlib)\n",
        "    model.to(\"cpu\")\n",
        "    X, y = X.to(\"cpu\"), y.to(\"cpu\")\n",
        "\n",
        "    # Setup prediction boundaries and grid\n",
        "    x_min, x_max = X[:, 0].min() - 0.1, X[:, 0].max() + 0.1\n",
        "    y_min, y_max = X[:, 1].min() - 0.1, X[:, 1].max() + 0.1\n",
        "    xx, yy = np.meshgrid(np.linspace(x_min, x_max, 101), np.linspace(y_min, y_max, 101))\n",
        "\n",
        "    # Make features\n",
        "    X_to_pred_on = torch.from_numpy(np.column_stack((xx.ravel(), yy.ravel()))).float()\n",
        "\n",
        "    # Make predictions\n",
        "    model.eval()\n",
        "    with torch.inference_mode():\n",
        "        y_logits = model(X_to_pred_on)\n",
        "\n",
        "    # Test for multi-class or binary and adjust logits to prediction labels\n",
        "    if len(torch.unique(y)) > 2:\n",
        "        y_pred = torch.softmax(y_logits, dim=1).argmax(dim=1)  # mutli-class\n",
        "    else:\n",
        "        y_pred = torch.round(torch.sigmoid(y_logits))  # binary\n",
        "\n",
        "    # Reshape preds and plot\n",
        "    y_pred = y_pred.reshape(xx.shape).detach().numpy()\n",
        "    plt.contourf(xx, yy, y_pred, cmap=plt.cm.RdYlBu, alpha=0.7)\n",
        "    plt.scatter(X[:, 0], X[:, 1], c=y, s=40, cmap=plt.cm.RdYlBu)\n",
        "    plt.xlim(xx.min(), xx.max())\n",
        "    plt.ylim(yy.min(), yy.max())\n"
      ],
      "metadata": {
        "id": "m8IgKAj1MbBT"
      },
      "execution_count": 43,
      "outputs": []
    },
    {
      "cell_type": "code",
      "source": [
        "plt.figure(figsize=(12,6))\n",
        "plt.subplot(1,2,1)\n",
        "plt.title(\"Train\")\n",
        "plot_decision_boundary(model_multiclass, X_blob_test, y_blob_test)"
      ],
      "metadata": {
        "colab": {
          "base_uri": "https://localhost:8080/",
          "height": 390
        },
        "id": "dPO51CUQz9a8",
        "outputId": "7b4e0605-6794-4424-fc28-f7c5c830d9df"
      },
      "execution_count": 44,
      "outputs": [
        {
          "output_type": "display_data",
          "data": {
            "text/plain": [
              "<Figure size 864x432 with 1 Axes>"
            ],
            "image/png": "[encoded data removed]"
          },
          "metadata": {
            "needs_background": "light"
          }
        }
      ]
    },
    {
      "cell_type": "markdown",
      "source": [
        "9. A few more classification metrics...\n",
        "\n",
        "a. Accuracy - out of 100 samples, how many our model gets right. Not the best for imbalanced classes.\n",
        "\n",
        "b. For imbalanced datasets, precision and recall. Beyond accuracy will kohesron\n",
        "\n",
        "c. Precision recall trade off \n",
        "\n",
        "d. F1 score - combines precision and recall\n",
        "\n",
        "e. Confusion Matrix - what is it?\n"
      ],
      "metadata": {
        "id": "0hoeiBJfNM4y"
      }
    },
    {
      "cell_type": "code",
      "source": [
        "!pip install torchmetrics"
      ],
      "metadata": {
        "id": "nKVQ5h4NLM4H",
        "colab": {
          "base_uri": "https://localhost:8080/"
        },
        "outputId": "60fc5f36-5b0a-459f-c369-5df2a94ff261"
      },
      "execution_count": 46,
      "outputs": [
        {
          "output_type": "stream",
          "name": "stdout",
          "text": [
            "Looking in indexes: https://pypi.org/simple, https://us-python.pkg.dev/colab-wheels/public/simple/\n",
            "Collecting torchmetrics\n",
            "  Downloading torchmetrics-0.11.4-py3-none-any.whl (519 kB)\n",
            "\u001b[2K     \u001b[90m━━━━━━━━━━━━━━━━━━━━━━━━━━━━━━━━━━━━━━\u001b[0m \u001b[32m519.2/519.2 KB\u001b[0m \u001b[31m15.5 MB/s\u001b[0m eta \u001b[36m0:00:00\u001b[0m\n",
            "\u001b[?25hRequirement already satisfied: torch>=1.8.1 in /usr/local/lib/python3.9/dist-packages (from torchmetrics) (1.13.1+cu116)\n",
            "Requirement already satisfied: packaging in /usr/local/lib/python3.9/dist-packages (from torchmetrics) (23.0)\n",
            "Requirement already satisfied: numpy>=1.17.2 in /usr/local/lib/python3.9/dist-packages (from torchmetrics) (1.22.4)\n",
            "Requirement already satisfied: typing-extensions in /usr/local/lib/python3.9/dist-packages (from torch>=1.8.1->torchmetrics) (4.5.0)\n",
            "Installing collected packages: torchmetrics\n",
            "Successfully installed torchmetrics-0.11.4\n"
          ]
        }
      ]
    },
    {
      "cell_type": "code",
      "source": [
        "from torchmetrics import Accuracy\n",
        "\n",
        "torchmetric_accuracy = Accuracy(task = \"multiclass\", num_classes = 4)\n",
        "torchmetric_accuracy(predicted_label,  y_blob_train)"
      ],
      "metadata": {
        "id": "62cry74JPVjs",
        "colab": {
          "base_uri": "https://localhost:8080/"
        },
        "outputId": "cfbbc999-c82b-4390-f3bc-0ec1c12d7535"
      },
      "execution_count": 47,
      "outputs": [
        {
          "output_type": "execute_result",
          "data": {
            "text/plain": [
              "tensor(0.9638)"
            ]
          },
          "metadata": {},
          "execution_count": 47
        }
      ]
    }
  ]
}