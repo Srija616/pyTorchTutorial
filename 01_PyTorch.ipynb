{
  "nbformat": 4,
  "nbformat_minor": 0,
  "metadata": {
    "colab": {
      "provenance": [],
      "authorship_tag": "ABX9TyOAC69dWh/JyoP5xUSz0CU2",
      "include_colab_link": true
    },
    "kernelspec": {
      "name": "python3",
      "display_name": "Python 3"
    },
    "language_info": {
      "name": "python"
    }
  },
  "cells": [
    {
      "cell_type": "markdown",
      "metadata": {
        "id": "view-in-github",
        "colab_type": "text"
      },
      "source": [
        "<a href=\"https://colab.research.google.com/github/Srija616/pyTorchTutorial/blob/main/01_PyTorch.ipynb\" target=\"_parent\"><img src=\"https://colab.research.google.com/assets/colab-badge.svg\" alt=\"Open In Colab\"/></a>"
      ]
    },
    {
      "cell_type": "markdown",
      "source": [
        "PyTorch Workflow"
      ],
      "metadata": {
        "id": "HqTKKJQtxT9m"
      }
    },
    {
      "cell_type": "code",
      "execution_count": 1,
      "metadata": {
        "colab": {
          "base_uri": "https://localhost:8080/"
        },
        "id": "ocQjHA1AxLr0",
        "outputId": "a0df4063-8fe5-41b5-a5be-b4f6eb7f2e6f"
      },
      "outputs": [
        {
          "output_type": "stream",
          "name": "stdout",
          "text": [
            "1.13.1+cu116\n"
          ]
        }
      ],
      "source": [
        "import torch\n",
        "import pandas as pd\n",
        "import numpy as np\n",
        "import matplotlib.pyplot as plt\n",
        "from torch import nn # nn contains the building blocks for neural networks\n",
        "\n",
        "print (torch.__version__)"
      ]
    },
    {
      "cell_type": "markdown",
      "source": [
        "1. Data - Preparing and Loading"
      ],
      "metadata": {
        "id": "Jx5ox3cJx7gc"
      }
    },
    {
      "cell_type": "code",
      "source": [
        "weight = 0.7\n",
        "bias = 0.3\n",
        "\n",
        "# Create\n",
        "start = 0\n",
        "end = 1\n",
        "step = 0.02\n",
        "X = torch.arange(start,end,step)\n",
        "print (len(X))\n",
        "y = weight*X + bias\n"
      ],
      "metadata": {
        "colab": {
          "base_uri": "https://localhost:8080/"
        },
        "id": "RMsQcoUZxRGx",
        "outputId": "01b5be4e-b592-40d7-a2d0-2eb51b5c8d8a"
      },
      "execution_count": 2,
      "outputs": [
        {
          "output_type": "stream",
          "name": "stdout",
          "text": [
            "50\n"
          ]
        }
      ]
    },
    {
      "cell_type": "markdown",
      "source": [
        "Splitting the dataset - 80 -20"
      ],
      "metadata": {
        "id": "nl9k3zWbOlY8"
      }
    },
    {
      "cell_type": "code",
      "source": [
        "train_split = int(0.8*len(X))\n",
        "X_train, y_train = X[:train_split], y[:train_split]\n",
        "X_test, y_test = X[train_split:], y[train_split:]"
      ],
      "metadata": {
        "id": "D82ikgyizABt"
      },
      "execution_count": 3,
      "outputs": []
    },
    {
      "cell_type": "code",
      "source": [
        "def plot_predictions(train_data = X_train, train_labels = y_train, test_data = X_test, test_labels = y_test, predictions = None):\n",
        "    plt.figure(figsize=(10,7))\n",
        "    plt.scatter(train_data, train_labels, c =\"b\", s=4, label =\"Training data\")\n",
        "    plt.scatter(test_data, test_labels, c =\"r\", s=4, label =\"Testing data\")\n",
        "    if (predictions!=None):\n",
        "        plt.scatter(test_data, predictions, c =\"g\", s=4, label =\"Predictions\")\n",
        "\n",
        "plot_predictions()"
      ],
      "metadata": {
        "colab": {
          "base_uri": "https://localhost:8080/",
          "height": 428
        },
        "id": "tN1s7qOrQJCr",
        "outputId": "3704cbf5-c950-4869-9b57-b46df21315fd"
      },
      "execution_count": 7,
      "outputs": [
        {
          "output_type": "display_data",
          "data": {
            "text/plain": [
              "<Figure size 720x504 with 1 Axes>"
            ],
            "image/png": "[encoded data removed]"
          },
          "metadata": {
            "needs_background": "light"
          }
        }
      ]
    },
    {
      "cell_type": "markdown",
      "source": [
        "# Build Model\n",
        "Linear Regression: Start with random values of Weight and bias, look at the training data and adjust the random values to get closer to the ideal values without overfitting on the data.\n",
        "\n",
        "To achieve this Gradient Descent and Back-propagation is used.\n",
        "\n",
        "Find the difference between the predicted and the target value and then using loss function, get a loss. We aim to reduce this loss by updating the weights and biases during the backpropagation step. \n",
        "\n",
        "Backpropagation:  (# add)"
      ],
      "metadata": {
        "id": "pMNwkWelR99l"
      }
    },
    {
      "cell_type": "code",
      "source": [
        "class LinearRegressionModel(nn.Module): \n",
        "    '''\n",
        "    nn.Module has almost everything that PyTorch model needs - base class for all neural models. \n",
        "    '''\n",
        "    def __init__(self):\n",
        "        super().__init__()\n",
        "        self.weights = nn.Parameter(torch.randn(1, requires_grad = True, dtype = torch.float))\n",
        "        self.bias = nn.Parameter(torch.randn(1, requires_grad = True, dtype = torch.float))\n",
        "\n",
        "    def forward(self, x:torch.Tensor) -> torch.Tensor: # x is input\n",
        "        return self.weights*x + self.bias"
      ],
      "metadata": {
        "id": "ChNP3y-nRTJ1"
      },
      "execution_count": 5,
      "outputs": []
    },
    {
      "cell_type": "markdown",
      "source": [
        "-torch.nn\n",
        "\n",
        "-torch.nn.Parameter\n",
        "\n",
        "-torch.nn.Module -> Subclass it, then override forward\n",
        "\n",
        "-torch.optim = optimizers in pytorch live - help with gradient descent\n",
        "\n",
        "-All nn.module require you to define the forward class.\n"
      ],
      "metadata": {
        "id": "SjwW43Cmh-tw"
      }
    },
    {
      "cell_type": "markdown",
      "source": [
        "The model is not trained. Below is the plot of predictions without training."
      ],
      "metadata": {
        "id": "zQTkIquKb_Ox"
      }
    },
    {
      "cell_type": "code",
      "source": [
        "# Create a random seed\n",
        "torch.manual_seed(42)\n",
        "\n",
        "# Create an instance of model we created\n",
        "model_0 = LinearRegressionModel()\n",
        "\n",
        "# list(model_0.parameters())\n",
        "\n",
        "# Make predictions using torch.inference_model()\n",
        "with torch.inference_mode():\n",
        "    y_preds = model_0.forward(X_test)\n",
        "    print (y_preds)\n",
        "    plot_predictions(predictions = y_preds)"
      ],
      "metadata": {
        "colab": {
          "base_uri": "https://localhost:8080/",
          "height": 463
        },
        "id": "IAgfW-RjRWvX",
        "outputId": "fd499773-c2cb-4b21-8ec5-eec3466f9f6a"
      },
      "execution_count": 12,
      "outputs": [
        {
          "output_type": "stream",
          "name": "stdout",
          "text": [
            "tensor([0.3982, 0.4049, 0.4116, 0.4184, 0.4251, 0.4318, 0.4386, 0.4453, 0.4520,\n",
            "        0.4588])\n"
          ]
        },
        {
          "output_type": "display_data",
          "data": {
            "text/plain": [
              "<Figure size 720x504 with 1 Axes>"
            ],
            "image/png": "[encoded data removed]"
          },
          "metadata": {
            "needs_background": "light"
          }
        }
      ]
    },
    {
      "cell_type": "code",
      "source": [
        "# Setup a loss function:\n",
        "loss_func = nn.L1Loss()\n",
        "\n",
        "# Select an optimizer\n",
        "optimizer = torch.optim.SGD(model_0.parameters(), lr=0.01, momentum=0.9) "
      ],
      "metadata": {
        "id": "P4N7HyVJlDmx"
      },
      "execution_count": 13,
      "outputs": []
    },
    {
      "cell_type": "markdown",
      "source": [
        "1. Loop through the data\n",
        "2. Forward pass\n",
        "3. Calculate loss\n",
        "4. Optimizer zero_grad\n",
        "5. Loss Backward - move backward through the network to calculate gradients wrt the loss\n",
        "6. Optimzer step - use the optimizer to adjust the model params and reduce the model loss"
      ],
      "metadata": {
        "id": "1aR9hCYv11h1"
      }
    },
    {
      "cell_type": "code",
      "source": [
        "# An epoch is one loop through the data.\n",
        "\n",
        "epochs = 100\n",
        "\n",
        "for epoch in range(epochs):\n",
        "    model_0.train()  # Sets all params that require grads to require grads\n",
        "    \n",
        "    # Forward pass and loss calculation\n",
        "    y_predicted = model_0.forward(X_train)\n",
        "    loss = loss_func(y_predicted, y_train)\n",
        "    \n",
        "    optimizer.zero_grad()\n",
        "    # Perform backprop on the loss wrt the params of the model\n",
        "    loss.backward()\n",
        "\n",
        "    # Perform gradient descent\n",
        "    optimizer.step()\n",
        "    model_0.eval()\n",
        "    with torch.inference_mode(): # faster than no_grad - old pytorch code\n",
        "        test_pred = model_0.forward(X_test)\n",
        "        loss = loss_func(test_pred, y_test)\n",
        "    if (epoch%10 == 0):\n",
        "        print (f\"Epoch:{epoch} | Test: {loss}\")\n",
        "    if (epoch == 99):\n",
        "        plot_predictions(predictions = test_pred)"
      ],
      "metadata": {
        "colab": {
          "base_uri": "https://localhost:8080/",
          "height": 602
        },
        "id": "8Za_HrH2lofl",
        "outputId": "7c06d274-4eb6-4420-c7b8-b4a6db7612bf"
      },
      "execution_count": 14,
      "outputs": [
        {
          "output_type": "stream",
          "name": "stdout",
          "text": [
            "Epoch:0 | Test: 0.48106518387794495\n",
            "Epoch:10 | Test: 0.026505161076784134\n",
            "Epoch:20 | Test: 0.1943041831254959\n",
            "Epoch:30 | Test: 0.027078520506620407\n",
            "Epoch:40 | Test: 0.001966828014701605\n",
            "Epoch:50 | Test: 0.0101406155154109\n",
            "Epoch:60 | Test: 0.02402856945991516\n",
            "Epoch:70 | Test: 0.007351130247116089\n",
            "Epoch:80 | Test: 0.009309673681855202\n",
            "Epoch:90 | Test: 0.004079228732734919\n"
          ]
        },
        {
          "output_type": "display_data",
          "data": {
            "text/plain": [
              "<Figure size 720x504 with 1 Axes>"
            ],
            "image/png": "[encoded data removed]"
          },
          "metadata": {
            "needs_background": "light"
          }
        }
      ]
    },
    {
      "cell_type": "code",
      "source": [
        "model_0.state_dict()"
      ],
      "metadata": {
        "colab": {
          "base_uri": "https://localhost:8080/"
        },
        "id": "rCD57Fd52ib1",
        "outputId": "5d6fe072-a478-46d4-ce90-bb1aa2aba2a5"
      },
      "execution_count": 15,
      "outputs": [
        {
          "output_type": "execute_result",
          "data": {
            "text/plain": [
              "OrderedDict([('weights', tensor([0.7081])), ('bias', tensor([0.2911]))])"
            ]
          },
          "metadata": {},
          "execution_count": 15
        }
      ]
    },
    {
      "cell_type": "code",
      "source": [
        "from pathlib import Path\n",
        "\n",
        "MODEL_PATH = Path(\"models\")\n",
        "MODEL_PATH.mkdir(parents = True, exist_ok = True)\n",
        "MODEL_NAME = \"01_pytorch_workflow_linear_regression.pt\"\n",
        "MODEL_SAVE_PATH = MODEL_PATH/MODEL_NAME"
      ],
      "metadata": {
        "id": "uPVMGTnukcVn"
      },
      "execution_count": 16,
      "outputs": []
    },
    {
      "cell_type": "code",
      "source": [
        "torch.save(model_0.state_dict(), MODEL_SAVE_PATH)"
      ],
      "metadata": {
        "id": "j4ifnjDkphmF"
      },
      "execution_count": null,
      "outputs": []
    },
    {
      "cell_type": "code",
      "source": [
        "model = LinearRegressionModel()\n",
        "model.state_dict(torch.load(MODEL_SAVE_PATH))"
      ],
      "metadata": {
        "colab": {
          "base_uri": "https://localhost:8080/"
        },
        "id": "VT3aQuJ5pszn",
        "outputId": "efb2ede3-65dc-4477-f415-b9ddb252f0c8"
      },
      "execution_count": null,
      "outputs": [
        {
          "output_type": "execute_result",
          "data": {
            "text/plain": [
              "OrderedDict([('weights', tensor([-1.1229])), ('bias', tensor([-0.1863]))])"
            ]
          },
          "metadata": {},
          "execution_count": 30
        }
      ]
    }
  ]
}